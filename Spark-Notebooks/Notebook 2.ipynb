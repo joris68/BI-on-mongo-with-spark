{
  "nbformat": 4,
  "nbformat_minor": 2,
  "metadata": {
    "kernelspec": {
      "name": "synapse_pyspark",
      "display_name": "Synapse PySpark"
    },
    "language_info": {
      "name": "python"
    },
    "description": null,
    "save_output": true,
    "synapse_widget": {
      "version": "0.1",
      "state": {}
    }
  },
  "cells": [
    {
      "cell_type": "code",
      "execution_count": 1,
      "outputs": [
        {
          "output_type": "display_data",
          "data": {
            "application/vnd.livy.statement-meta+json": {
              "spark_pool": "mySparkPool",
              "session_id": "13",
              "statement_id": 2,
              "state": "finished",
              "livy_statement_state": "available",
              "queued_time": "2023-10-06T11:17:14.3480039Z",
              "session_start_time": "2023-10-06T11:17:14.4293777Z",
              "execution_start_time": "2023-10-06T11:20:04.2191839Z",
              "execution_finish_time": "2023-10-06T11:20:36.2958573Z",
              "spark_jobs": null,
              "parent_msg_id": "2698ec73-82bf-40a3-a852-3ba2a37dc783"
            },
            "text/plain": "StatementMeta(mySparkPool, 13, 2, Finished, Available)"
          },
          "metadata": {}
        },
        {
          "output_type": "stream",
          "name": "stdout",
          "text": [
            "+----------+-----+---------------+\n|account_id|limit|        product|\n+----------+-----+---------------+\n|    371138| 9000|    Derivatives|\n|    371138| 9000|InvestmentStock|\n|    557378|10000|InvestmentStock|\n|    557378|10000|      Commodity|\n|    557378|10000|      Brokerage|\n|    557378|10000|CurrencyService|\n|    198100|10000|    Derivatives|\n|    198100|10000|CurrencyService|\n|    198100|10000|InvestmentStock|\n|    674364|10000|InvestmentStock|\n+----------+-----+---------------+\nonly showing top 10 rows\n\n5383\n"
          ]
        }
      ],
      "metadata": {
        "microsoft": {
          "language": "python"
        }
      },
      "source": [
        "%%pyspark\n",
        "df_accounts = spark.sql(\"SELECT * FROM `default`.`accounts`\")\n",
        "df_accounts.show(10)\n",
        "\n",
        "row_count = df_accounts.count()\n",
        "\n",
        "print(row_count)"
      ]
    },
    {
      "cell_type": "code",
      "execution_count": 2,
      "outputs": [
        {
          "output_type": "display_data",
          "data": {
            "application/vnd.livy.statement-meta+json": {
              "spark_pool": "mySparkPool",
              "session_id": "13",
              "statement_id": 3,
              "state": "finished",
              "livy_statement_state": "available",
              "queued_time": "2023-10-06T11:21:26.6453765Z",
              "session_start_time": null,
              "execution_start_time": "2023-10-06T11:21:26.8456135Z",
              "execution_finish_time": "2023-10-06T11:21:29.0202264Z",
              "spark_jobs": null,
              "parent_msg_id": "f302dfdd-cf84-4cc8-94f9-3e6822fd69b4"
            },
            "text/plain": "StatementMeta(mySparkPool, 13, 3, Finished, Available)"
          },
          "metadata": {}
        },
        {
          "output_type": "stream",
          "name": "stdout",
          "text": [
            "+----------------+---------------+--------------------+------------+----------+-------------+------------------+\n|        username|           name|             address|        Time|account_id|date_of_birth|               age|\n+----------------+---------------+--------------------+------------+----------+-------------+------------------+\n|         fmiller|  Elizabeth Ray|9286 Bethany Glen...|226117231000|    371138|   1977-03-02| 46.62465753424657|\n|         fmiller|  Elizabeth Ray|9286 Bethany Glen...|226117231000|    324287|   1977-03-02| 46.62465753424657|\n|         fmiller|  Elizabeth Ray|9286 Bethany Glen...|226117231000|    276528|   1977-03-02| 46.62465753424657|\n|         fmiller|  Elizabeth Ray|9286 Bethany Glen...|226117231000|    332179|   1977-03-02| 46.62465753424657|\n|         fmiller|  Elizabeth Ray|9286 Bethany Glen...|226117231000|    422649|   1977-03-02| 46.62465753424657|\n|         fmiller|  Elizabeth Ray|9286 Bethany Glen...|226117231000|    387979|   1977-03-02| 46.62465753424657|\n|valenciajennifer|  Lindsay Cowan|Unit 1047 Box 408...|761701587000|    116508|   1994-02-19|29.643835616438356|\n|      hillrachel|Katherine David|55711 Janet Plaza...|582848134000|    462501|   1988-06-20| 35.31506849315068|\n|      hillrachel|Katherine David|55711 Janet Plaza...|582848134000|    228290|   1988-06-20| 35.31506849315068|\n|      hillrachel|Katherine David|55711 Janet Plaza...|582848134000|    968786|   1988-06-20| 35.31506849315068|\n+----------------+---------------+--------------------+------------+----------+-------------+------------------+\nonly showing top 10 rows\n\n1746\n"
          ]
        }
      ],
      "metadata": {
        "jupyter": {
          "source_hidden": false,
          "outputs_hidden": false
        },
        "nteract": {
          "transient": {
            "deleting": false
          }
        },
        "microsoft": {
          "language": "python"
        }
      },
      "source": [
        "%%pyspark\r\n",
        "df_customers = spark.sql(\"SELECT * FROM `default`.`customers`\")\r\n",
        "\r\n",
        "df_customers.show(10)\r\n",
        "\r\n",
        "row_count = df_customers.count()\r\n",
        "\r\n",
        "print(row_count)"
      ]
    },
    {
      "cell_type": "code",
      "execution_count": 3,
      "outputs": [
        {
          "output_type": "display_data",
          "data": {
            "application/vnd.livy.statement-meta+json": {
              "spark_pool": "mySparkPool",
              "session_id": "13",
              "statement_id": 4,
              "state": "finished",
              "livy_statement_state": "available",
              "queued_time": "2023-10-06T11:21:31.5566818Z",
              "session_start_time": null,
              "execution_start_time": "2023-10-06T11:21:31.7289904Z",
              "execution_finish_time": "2023-10-06T11:21:49.0031366Z",
              "spark_jobs": null,
              "parent_msg_id": "0c6e1a66-20e4-4b0f-872f-a2ed8a4730ab"
            },
            "text/plain": "StatementMeta(mySparkPool, 13, 4, Finished, Available)"
          },
          "metadata": {}
        },
        {
          "output_type": "stream",
          "name": "stdout",
          "text": [
            "+----------+----------+----------+-----------------+-------------------+----------------+----------------+\n|account_id|  end_date|start_date|transaction_count|        bucket_time|transaction_code|transaction_date|\n+----------+----------+----------+-----------------+-------------------+----------------+----------------+\n|    918519|2015-03-24|2015-02-23|                1|0.07945205479452055|            sell|      2015-03-20|\n|    923502|2017-01-06|2000-06-30|               90|  16.53150684931507|            sell|      2015-07-24|\n|    923502|2017-01-06|2000-06-30|               90|  16.53150684931507|            sell|      2010-02-12|\n|    923502|2017-01-06|2000-06-30|               90|  16.53150684931507|            sell|      2014-12-18|\n|    923502|2017-01-06|2000-06-30|               90|  16.53150684931507|            sell|      2010-09-30|\n|    923502|2017-01-06|2000-06-30|               90|  16.53150684931507|            sell|      2015-04-13|\n|    923502|2017-01-06|2000-06-30|               90|  16.53150684931507|             buy|      2015-10-07|\n|    923502|2017-01-06|2000-06-30|               90|  16.53150684931507|             buy|      2012-04-27|\n|    923502|2017-01-06|2000-06-30|               90|  16.53150684931507|             buy|      2011-11-15|\n|    923502|2017-01-06|2000-06-30|               90|  16.53150684931507|            sell|      2007-01-05|\n+----------+----------+----------+-----------------+-------------------+----------------+----------------+\nonly showing top 10 rows\n\n88119\n"
          ]
        }
      ],
      "metadata": {
        "jupyter": {
          "source_hidden": false,
          "outputs_hidden": false
        },
        "nteract": {
          "transient": {
            "deleting": false
          }
        },
        "microsoft": {
          "language": "python"
        }
      },
      "source": [
        "%%pyspark\r\n",
        "df_transactions = spark.sql(\"SELECT * FROM `default`.`transactions`\")\r\n",
        "\r\n",
        "df_transactions.show(10)\r\n",
        "\r\n",
        "row_count = df_transactions.count()\r\n",
        "\r\n",
        "print(row_count)"
      ]
    },
    {
      "cell_type": "code",
      "execution_count": 5,
      "outputs": [
        {
          "output_type": "display_data",
          "data": {
            "application/vnd.livy.statement-meta+json": {
              "spark_pool": "mySparkPool",
              "session_id": "13",
              "statement_id": 6,
              "state": "finished",
              "livy_statement_state": "available",
              "queued_time": "2023-10-06T11:22:10.1144537Z",
              "session_start_time": null,
              "execution_start_time": "2023-10-06T11:22:10.3083036Z",
              "execution_finish_time": "2023-10-06T11:22:10.4996435Z",
              "spark_jobs": null,
              "parent_msg_id": "68c056ef-059a-456b-a923-4996442f954f"
            },
            "text/plain": "StatementMeta(mySparkPool, 13, 6, Finished, Available)"
          },
          "metadata": {}
        }
      ],
      "metadata": {
        "jupyter": {
          "source_hidden": false,
          "outputs_hidden": false
        },
        "nteract": {
          "transient": {
            "deleting": false
          }
        }
      },
      "source": [
        "import pandas as pd\r\n",
        "import matplotlib.pyplot as plt\r\n",
        "from pyspark.sql.functions import col, explode,current_date, datediff,from_unixtime, expr, avg\r\n",
        "from pyspark.sql.types import IntegerType\r\n",
        "from datetime import datetime\r\n",
        "from pyspark.ml.feature import Bucketizer"
      ]
    },
    {
      "cell_type": "code",
      "execution_count": 6,
      "outputs": [
        {
          "output_type": "display_data",
          "data": {
            "application/vnd.livy.statement-meta+json": {
              "spark_pool": "mySparkPool",
              "session_id": "13",
              "statement_id": 7,
              "state": "finished",
              "livy_statement_state": "available",
              "queued_time": "2023-10-06T11:22:13.219352Z",
              "session_start_time": null,
              "execution_start_time": "2023-10-06T11:22:13.4004037Z",
              "execution_finish_time": "2023-10-06T11:22:17.6890251Z",
              "spark_jobs": null,
              "parent_msg_id": "9734ff9c-e3ad-4561-8ff0-a07aef382918"
            },
            "text/plain": "StatementMeta(mySparkPool, 13, 7, Finished, Available)"
          },
          "metadata": {}
        },
        {
          "output_type": "stream",
          "name": "stdout",
          "text": [
            "+----------------+\n|      avg(count)|\n+----------------+\n|3.51307847082495|\n+----------------+\n\n"
          ]
        }
      ],
      "metadata": {
        "jupyter": {
          "source_hidden": false,
          "outputs_hidden": false
        },
        "nteract": {
          "transient": {
            "deleting": false
          }
        }
      },
      "source": [
        "# wieviele accounts haben Kunden durchschnittlich?\r\n",
        "\r\n",
        "average_accounts_per_customer = df_customers.groupBy(\"username\").count().alias(\"count\")\r\n",
        "\r\n",
        "avg_count = average_accounts_per_customer.agg(avg(\"count\"))\r\n",
        "\r\n",
        "avg_count.show()\r\n",
        "\r\n",
        "#average_accounts_per_customer.show()"
      ]
    },
    {
      "cell_type": "code",
      "execution_count": 56,
      "outputs": [
        {
          "output_type": "display_data",
          "data": {
            "application/vnd.livy.statement-meta+json": {
              "spark_pool": "mySparkPool",
              "session_id": "11",
              "statement_id": 7,
              "state": "finished",
              "livy_statement_state": "available",
              "queued_time": "2023-10-05T10:32:50.4018943Z",
              "session_start_time": null,
              "execution_start_time": "2023-10-05T10:32:50.6533951Z",
              "execution_finish_time": "2023-10-05T10:33:01.7355966Z",
              "spark_jobs": null,
              "parent_msg_id": "d6e80267-ec19-4912-bec7-a82f9a155c24"
            },
            "text/plain": "StatementMeta(mySparkPool, 11, 7, Finished, Available)"
          },
          "metadata": {}
        },
        {
          "output_type": "stream",
          "name": "stdout",
          "text": [
            "+---------------+-----+\n|        product|count|\n+---------------+-----+\n|InvestmentStock| 1746|\n|      Brokerage|  741|\n|      Commodity|  720|\n| InvestmentFund|  728|\n|CurrencyService|  742|\n|    Derivatives|  706|\n+---------------+-----+\n\n"
          ]
        },
        {
          "output_type": "display_data",
          "data": {
            "text/plain": "<Figure size 1200x600 with 1 Axes>",
            "image/png": "[encoded data removed]"
          },
          "metadata": {}
        }
      ],
      "metadata": {
        "jupyter": {
          "source_hidden": false,
          "outputs_hidden": false
        },
        "nteract": {
          "transient": {
            "deleting": false
          }
        }
      },
      "source": [
        "# meistgenutze Produckte\r\n",
        "\r\n",
        "product_counts = df_accounts.groupBy(\"product\").count()\r\n",
        "\r\n",
        "product_counts.show()\r\n",
        "\r\n",
        "pd_df = product_counts.toPandas()\r\n",
        "\r\n",
        "plt.figure(figsize=(12, 6))\r\n",
        "plt.bar(pd_df[\"product\"],pd_df[\"count\"])\r\n",
        "plt.xlabel(\"Product\")\r\n",
        "plt.ylabel(\"Count\")\r\n",
        "plt.title(\"Most used Products\")\r\n",
        "plt.xticks(rotation=45, ha=\"right\")\r\n",
        "plt.tight_layout()"
      ]
    },
    {
      "cell_type": "code",
      "execution_count": 7,
      "outputs": [
        {
          "output_type": "display_data",
          "data": {
            "application/vnd.livy.statement-meta+json": {
              "spark_pool": "mySparkPool",
              "session_id": "13",
              "statement_id": 8,
              "state": "finished",
              "livy_statement_state": "available",
              "queued_time": "2023-10-06T11:22:19.9814856Z",
              "session_start_time": null,
              "execution_start_time": "2023-10-06T11:22:20.1733772Z",
              "execution_finish_time": "2023-10-06T11:22:25.8719479Z",
              "spark_jobs": null,
              "parent_msg_id": "dfc6d8f1-8473-4d76-9d24-48201102c747"
            },
            "text/plain": "StatementMeta(mySparkPool, 13, 8, Finished, Available)"
          },
          "metadata": {}
        },
        {
          "output_type": "stream",
          "name": "stdout",
          "text": [
            "+-------+-----------------+--------+--------------+--------------------+--------------------+-------------+------------------+-----------------+---------------+\n|summary|       account_id|username|          name|             address|                Time|date_of_birth|               age|            limit|        product|\n+-------+-----------------+--------+--------------+--------------------+--------------------+-------------+------------------+-----------------+---------------+\n|  count|             5391|    5391|          5391|                5391|                5391|         5391|              5391|             5391|           5391|\n|   mean| 524046.965312558|    null|          null|                null|3.916789551786310...|         null|41.375826783858486|9955.295863476164|           null|\n| stddev|275979.0261110625|    null|          null|                null|2.862789013430039E11|         null|  9.07784204792408|345.1832088891742|           null|\n|    min|           100721|  abrown|   Aaron Perez|00679 Lucero Moun...|       -108110274000|   1966-07-29|  26.5013698630137|            10000|      Brokerage|\n|    max|           999198|zsanders|Yolanda Harris|Unit 9897 Box 742...|        860740290000|   1997-04-11|57.224657534246575|             9000|InvestmentStock|\n+-------+-----------------+--------+--------------+--------------------+--------------------+-------------+------------------+-----------------+---------------+\n\n"
          ]
        }
      ],
      "metadata": {
        "jupyter": {
          "source_hidden": false,
          "outputs_hidden": false
        },
        "nteract": {
          "transient": {
            "deleting": false
          }
        }
      },
      "source": [
        "# join togehther the accounts and the customers dataframe with inner join\r\n",
        "\r\n",
        "df_joined_acc_cust = df_customers.join(df_accounts, on=[\"account_id\"], how=\"left\")\r\n",
        "\r\n",
        "#df_joined_acc_cust.show()\r\n",
        "\r\n",
        "#rows = df_joined_acc_cust.count()\r\n",
        "df_joined_acc_cust.describe().show()\r\n",
        ""
      ]
    },
    {
      "cell_type": "code",
      "execution_count": 8,
      "outputs": [
        {
          "output_type": "display_data",
          "data": {
            "application/vnd.livy.statement-meta+json": {
              "spark_pool": "mySparkPool",
              "session_id": "13",
              "statement_id": 9,
              "state": "finished",
              "livy_statement_state": "available",
              "queued_time": "2023-10-06T11:22:31.1843647Z",
              "session_start_time": null,
              "execution_start_time": "2023-10-06T11:22:31.3864771Z",
              "execution_finish_time": "2023-10-06T11:22:34.3676601Z",
              "spark_jobs": null,
              "parent_msg_id": "6b5bcd27-7a41-464f-80bc-ecd074a2a67d"
            },
            "text/plain": "StatementMeta(mySparkPool, 13, 9, Finished, Available)"
          },
          "metadata": {}
        },
        {
          "output_type": "stream",
          "name": "stdout",
          "text": [
            "+----------+--------+-------------+--------------------+------------+-------------+-----------------+-----+---------------+---------+\n|account_id|username|         name|             address|        Time|date_of_birth|              age|limit|        product|age_group|\n+----------+--------+-------------+--------------------+------------+-------------+-----------------+-----+---------------+---------+\n|    371138| fmiller|Elizabeth Ray|9286 Bethany Glen...|226117231000|   1977-03-02|46.62465753424657| 9000|InvestmentStock|      3.0|\n|    371138| fmiller|Elizabeth Ray|9286 Bethany Glen...|226117231000|   1977-03-02|46.62465753424657| 9000|    Derivatives|      3.0|\n|    324287| fmiller|Elizabeth Ray|9286 Bethany Glen...|226117231000|   1977-03-02|46.62465753424657|10000|InvestmentStock|      3.0|\n|    324287| fmiller|Elizabeth Ray|9286 Bethany Glen...|226117231000|   1977-03-02|46.62465753424657|10000|    Derivatives|      3.0|\n|    324287| fmiller|Elizabeth Ray|9286 Bethany Glen...|226117231000|   1977-03-02|46.62465753424657|10000|CurrencyService|      3.0|\n|    324287| fmiller|Elizabeth Ray|9286 Bethany Glen...|226117231000|   1977-03-02|46.62465753424657|10000|      Commodity|      3.0|\n|    276528| fmiller|Elizabeth Ray|9286 Bethany Glen...|226117231000|   1977-03-02|46.62465753424657|10000|InvestmentStock|      3.0|\n|    276528| fmiller|Elizabeth Ray|9286 Bethany Glen...|226117231000|   1977-03-02|46.62465753424657|10000| InvestmentFund|      3.0|\n|    332179| fmiller|Elizabeth Ray|9286 Bethany Glen...|226117231000|   1977-03-02|46.62465753424657|10000|InvestmentStock|      3.0|\n|    332179| fmiller|Elizabeth Ray|9286 Bethany Glen...|226117231000|   1977-03-02|46.62465753424657|10000|      Brokerage|      3.0|\n|    332179| fmiller|Elizabeth Ray|9286 Bethany Glen...|226117231000|   1977-03-02|46.62465753424657|10000| InvestmentFund|      3.0|\n|    332179| fmiller|Elizabeth Ray|9286 Bethany Glen...|226117231000|   1977-03-02|46.62465753424657|10000|CurrencyService|      3.0|\n|    332179| fmiller|Elizabeth Ray|9286 Bethany Glen...|226117231000|   1977-03-02|46.62465753424657|10000|      Commodity|      3.0|\n|    422649| fmiller|Elizabeth Ray|9286 Bethany Glen...|226117231000|   1977-03-02|46.62465753424657|10000|InvestmentStock|      3.0|\n|    422649| fmiller|Elizabeth Ray|9286 Bethany Glen...|226117231000|   1977-03-02|46.62465753424657|10000|CurrencyService|      3.0|\n|    387979| fmiller|Elizabeth Ray|9286 Bethany Glen...|226117231000|   1977-03-02|46.62465753424657|10000|InvestmentStock|      3.0|\n|    387979| fmiller|Elizabeth Ray|9286 Bethany Glen...|226117231000|   1977-03-02|46.62465753424657|10000|      Commodity|      3.0|\n|    387979| fmiller|Elizabeth Ray|9286 Bethany Glen...|226117231000|   1977-03-02|46.62465753424657|10000| InvestmentFund|      3.0|\n|    387979| fmiller|Elizabeth Ray|9286 Bethany Glen...|226117231000|   1977-03-02|46.62465753424657|10000|    Derivatives|      3.0|\n|    387979| fmiller|Elizabeth Ray|9286 Bethany Glen...|226117231000|   1977-03-02|46.62465753424657|10000|      Brokerage|      3.0|\n+----------+--------+-------------+--------------------+------------+-------------+-----------------+-----+---------------+---------+\nonly showing top 20 rows\n\n"
          ]
        }
      ],
      "metadata": {
        "jupyter": {
          "source_hidden": false,
          "outputs_hidden": false
        },
        "nteract": {
          "transient": {
            "deleting": false
          }
        }
      },
      "source": [
        "age_bins = [26, 32, 38, 44, 50, 58]\r\n",
        "df_joined_acc_cust\r\n",
        "\r\n",
        "bucketizer = Bucketizer(splits=age_bins, inputCol=\"age\", outputCol=\"age_group\")\r\n",
        "\r\n",
        "bucketized_df = bucketizer.transform(df_joined_acc_cust)\r\n",
        "\r\n",
        "bucketized_df.show()"
      ]
    },
    {
      "cell_type": "code",
      "execution_count": 9,
      "outputs": [
        {
          "output_type": "display_data",
          "data": {
            "application/vnd.livy.statement-meta+json": {
              "spark_pool": "mySparkPool",
              "session_id": "13",
              "statement_id": 10,
              "state": "finished",
              "livy_statement_state": "available",
              "queued_time": "2023-10-06T11:22:43.5270479Z",
              "session_start_time": null,
              "execution_start_time": "2023-10-06T11:22:43.7220019Z",
              "execution_finish_time": "2023-10-06T11:22:47.0516046Z",
              "spark_jobs": null,
              "parent_msg_id": "ec047d84-044d-4b8b-a294-de7177a540d6"
            },
            "text/plain": "StatementMeta(mySparkPool, 13, 10, Finished, Available)"
          },
          "metadata": {}
        },
        {
          "output_type": "stream",
          "name": "stdout",
          "text": [
            "+--------------+------------------+--------------------+-------------+----------+-------------+------------------+---------+\n|      username|              name|             address|         Time|account_id|date_of_birth|               age|age_group|\n+--------------+------------------+--------------------+-------------+----------+-------------+------------------+---------+\n|        abrown|       Ray Jenkins|USNS Thomas\\nFPO ...| 132245243000|    146756|   1974-03-11|49.602739726027394|      5.0|\n|   alexandra72|       Amy Bennett|6327 Jones Manors...| 265543841000|    337202|   1978-06-01| 45.37534246575343|      4.0|\n|   alexsanders|     Annette Watts|5094 Gonzales Man...| 587907783000|    107787|   1988-08-18|35.153424657534245|      2.0|\n|  allenhubbard|   Bradley Roberts|55313 Elliott Tur...| 841186612000|    857368|   1996-08-27|27.123287671232877|      0.0|\n| allenjennifer|     Brian Woodard|USNV Black\\nFPO A...| 216546864000|     66611|   1976-11-11| 46.92876712328767|      5.0|\n|  alvarezdavid|       Paul Rogers|3831 Matthew Rout...| 608883906000|    494340|   1989-04-18|34.487671232876714|      2.0|\n|      amanda41| Michael Davila MD|732 Rhodes Hills\\...| 320949655000|    374953|   1980-03-03| 43.61917808219178|      4.0|\n|      amanda54| Samantha Cain DVM|2405 Brittney Par...| 670642581000|    979789|   1991-04-03| 32.52876712328767|      1.0|\n|      amanda70|Christopher Watson|98287 Ryan Unions...|-108110274000|    765127|   1966-07-29|57.224657534246575|      7.0|\n|      amanda78|     Geoffrey Ball|USNS Bradford\\nFP...| 123813857000|    199962|   1973-12-04|49.868493150684934|      5.0|\n|amandawilliams|      Brandy Huang|9505 Melissa Stre...| 180627718000|    650729|   1975-09-22| 48.06849315068493|      5.0|\n|       amartin|     John Robinson|PSC 0414, Box 398...| 664044822000|    766886|   1991-01-16| 32.73972602739726|      1.0|\n|    ambercraig|      Trevor Perry|8234 Tyler Parkwa...| 300803838000|    673123|   1979-07-14| 44.25753424657534|      4.0|\n|         amy56|        Lisa Brown|8099 Kelly Mill\\n...| 683416714000|    777962|   1991-08-28| 32.12602739726027|      1.0|\n|      andrea41|     Jennifer Rush|84147 Green Path ...|  -2618172000|    178000|   1969-12-01| 53.87945205479452|      6.0|\n|    andreaking|        Gina Perez|6602 Nicholas Cou...| 306296960000|    881867|   1979-09-16|44.082191780821915|      4.0|\n|  andreawalker|    Kenneth Murphy|24615 Black Mount...| 768229259000|     84115|   1994-05-06|29.435616438356163|      0.0|\n|      andrew79|Dr. Matthew Archer|37286 Megan Isle ...| 524743415000|    455317|   1986-08-18|37.156164383561645|      2.0|\n|andrewhamilton|      Gary Nichols|633 Miller Turnpi...| 730661849000|    385397|   1993-02-25|30.627397260273973|      1.0|\n|  angelathomas|       Shane Mills|73703 Brandon Dal...| 341658186000|    214555|   1980-10-29|42.961643835616435|      4.0|\n+--------------+------------------+--------------------+-------------+----------+-------------+------------------+---------+\nonly showing top 20 rows\n\n497\n"
          ]
        }
      ],
      "metadata": {
        "jupyter": {
          "source_hidden": false,
          "outputs_hidden": false
        },
        "nteract": {
          "transient": {
            "deleting": false
          }
        }
      },
      "source": [
        "age_bins = [26, 30, 34,38, 42, 46 ,50, 54, 58]\r\n",
        "\r\n",
        "bucketizer = Bucketizer(splits=age_bins, inputCol=\"age\", outputCol=\"age_group\")\r\n",
        "\r\n",
        "df_ageGroup = bucketizer.transform(df_customers)\r\n",
        "\r\n",
        "df_ageGroup = df_ageGroup.dropDuplicates(subset=[\"username\"])\r\n",
        "\r\n",
        "rows = df_ageGroup.count()\r\n",
        "\r\n",
        "df_ageGroup.show()\r\n",
        "\r\n",
        "print(rows)"
      ]
    },
    {
      "cell_type": "code",
      "execution_count": 10,
      "outputs": [
        {
          "output_type": "display_data",
          "data": {
            "application/vnd.livy.statement-meta+json": {
              "spark_pool": "mySparkPool",
              "session_id": "13",
              "statement_id": 11,
              "state": "finished",
              "livy_statement_state": "available",
              "queued_time": "2023-10-06T11:22:50.4901009Z",
              "session_start_time": null,
              "execution_start_time": "2023-10-06T11:22:50.7081281Z",
              "execution_finish_time": "2023-10-06T11:22:53.8457797Z",
              "spark_jobs": null,
              "parent_msg_id": "2f43a2c9-dfe2-40a7-9eda-aed512931c78"
            },
            "text/plain": "StatementMeta(mySparkPool, 13, 11, Finished, Available)"
          },
          "metadata": {}
        },
        {
          "output_type": "display_data",
          "data": {
            "text/plain": "<Figure size 800x600 with 1 Axes>",
            "image/png": "[encoded data removed]"
          },
          "metadata": {}
        }
      ],
      "metadata": {
        "jupyter": {
          "source_hidden": false,
          "outputs_hidden": false
        },
        "nteract": {
          "transient": {
            "deleting": false
          }
        }
      },
      "source": [
        "\r\n",
        "pandas_df = df_ageGroup.select(\"age_group\").toPandas()\r\n",
        "\r\n",
        "\r\n",
        "plt.figure(figsize=(8, 6))\r\n",
        "plt.hist(pandas_df[\"age_group\"], bins=8, edgecolor=\"k\")\r\n",
        "plt.xlabel(\"Age Groups\")\r\n",
        "plt.ylabel(\"Frequency\")\r\n",
        "plt.title(\"Age Group Histogram\")\r\n",
        "plt.xticks(ticks= range(8), labels=[\"26-30\", \"30-34\", \"34-38\", \"38-42\", \"42-46\", \"46-50\", \"50-54\", \"54-58\"])  # Assuming you have 6 age groups\r\n",
        "plt.tight_layout()"
      ]
    },
    {
      "cell_type": "code",
      "execution_count": 13,
      "outputs": [
        {
          "output_type": "display_data",
          "data": {
            "application/vnd.livy.statement-meta+json": {
              "spark_pool": "mySparkPool",
              "session_id": "13",
              "statement_id": 14,
              "state": "finished",
              "livy_statement_state": "available",
              "queued_time": "2023-10-06T11:28:03.1557235Z",
              "session_start_time": null,
              "execution_start_time": "2023-10-06T11:28:03.3344029Z",
              "execution_finish_time": "2023-10-06T11:28:05.3076468Z",
              "spark_jobs": null,
              "parent_msg_id": "02a8a813-573d-4257-b09c-66cd28fee672"
            },
            "text/plain": "StatementMeta(mySparkPool, 13, 14, Finished, Available)"
          },
          "metadata": {}
        },
        {
          "output_type": "stream",
          "name": "stdout",
          "text": [
            "+---------------+---------+-----+\n|        product|age_group|count|\n+---------------+---------+-----+\n| InvestmentFund|      4.0|  174|\n|InvestmentStock|      3.0|  352|\n|      Brokerage|      0.0|  143|\n|      Commodity|      4.0|  185|\n|    Derivatives|      0.0|  139|\n| InvestmentFund|      3.0|  137|\n|    Derivatives|      3.0|  146|\n|      Brokerage|      3.0|  152|\n|    Derivatives|      1.0|  152|\n|CurrencyService|      4.0|  164|\n| InvestmentFund|      1.0|  161|\n|    Derivatives|      2.0|  108|\n|InvestmentStock|      0.0|  377|\n|InvestmentStock|      4.0|  392|\n|CurrencyService|      2.0|   98|\n|      Brokerage|      1.0|  170|\n|      Commodity|      2.0|  101|\n|    Derivatives|      4.0|  161|\n|CurrencyService|      3.0|  142|\n|CurrencyService|      1.0|  160|\n+---------------+---------+-----+\nonly showing top 20 rows\n\nroot\n |-- product: string (nullable = true)\n |-- age_group: double (nullable = true)\n |-- count: long (nullable = false)\n\n"
          ]
        }
      ],
      "metadata": {
        "jupyter": {
          "source_hidden": false,
          "outputs_hidden": false
        },
        "nteract": {
          "transient": {
            "deleting": false
          }
        }
      },
      "source": [
        "result_df = bucketized_df.groupBy(\"product\", \"age_group\").count()\r\n",
        "\r\n",
        "result_df.show()\r\n",
        "\r\n",
        "result_df.printSchema()"
      ]
    },
    {
      "cell_type": "code",
      "execution_count": 15,
      "outputs": [
        {
          "output_type": "display_data",
          "data": {
            "application/vnd.livy.statement-meta+json": {
              "spark_pool": "mySparkPool",
              "session_id": "13",
              "statement_id": 16,
              "state": "finished",
              "livy_statement_state": "available",
              "queued_time": "2023-10-06T11:30:17.8289257Z",
              "session_start_time": null,
              "execution_start_time": "2023-10-06T11:30:18.0543866Z",
              "execution_finish_time": "2023-10-06T11:30:18.2732512Z",
              "spark_jobs": null,
              "parent_msg_id": "97a0a8ef-e732-49f8-aa7e-3bbd9727ad8a"
            },
            "text/plain": "StatementMeta(mySparkPool, 13, 16, Finished, Available)"
          },
          "metadata": {}
        },
        {
          "output_type": "error",
          "ename": "TypeError",
          "evalue": "unsupported operand type(s) for +: 'int' and 'str'",
          "traceback": [
            "\u001b[0;31m---------------------------------------------------------------------------\u001b[0m",
            "\u001b[0;31mTypeError\u001b[0m                                 Traceback (most recent call last)",
            "Cell \u001b[0;32mIn [33], line 1\u001b[0m\n\u001b[0;32m----> 1\u001b[0m age_group_totals \u001b[38;5;241m=\u001b[39m result_df\u001b[38;5;241m.\u001b[39mgroupBy(\u001b[38;5;124m\"\u001b[39m\u001b[38;5;124mage_group\u001b[39m\u001b[38;5;124m\"\u001b[39m)\u001b[38;5;241m.\u001b[39magg(\u001b[38;5;28;43msum\u001b[39;49m\u001b[43m(\u001b[49m\u001b[38;5;124;43m\"\u001b[39;49m\u001b[38;5;124;43mcount\u001b[39;49m\u001b[38;5;124;43m\"\u001b[39;49m\u001b[43m)\u001b[49m\u001b[38;5;241m.\u001b[39malias(\u001b[38;5;124m\"\u001b[39m\u001b[38;5;124mtotal_count\u001b[39m\u001b[38;5;124m\"\u001b[39m))\n\u001b[1;32m      3\u001b[0m age_group_totals\u001b[38;5;241m.\u001b[39mshow()\n",
            "\u001b[0;31mTypeError\u001b[0m: unsupported operand type(s) for +: 'int' and 'str'"
          ]
        }
      ],
      "metadata": {
        "jupyter": {
          "source_hidden": false,
          "outputs_hidden": false
        },
        "nteract": {
          "transient": {
            "deleting": false
          }
        }
      },
      "source": [
        "age_group_totals = result_df.groupBy(\"age_group\").agg(sum(\"count\").alias(\"total_count\"))\r\n",
        "\r\n",
        "age_group_totals.show()"
      ]
    }
  ]
}